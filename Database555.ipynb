{
 "cells": [
  {
   "cell_type": "markdown",
   "metadata": {},
   "source": [
    "Plant Parenthood"
   ]
  },
  {
   "cell_type": "code",
   "execution_count": 3,
   "metadata": {},
   "outputs": [],
   "source": [
    "%reload_ext sql\n"
   ]
  },
  {
   "cell_type": "code",
   "execution_count": 4,
   "metadata": {},
   "outputs": [],
   "source": [
    "%sql sqlite:///Plant_Parenthood.db"
   ]
  },
  {
   "cell_type": "code",
   "execution_count": 5,
   "metadata": {},
   "outputs": [],
   "source": [
    "import pymysql"
   ]
  },
  {
   "cell_type": "code",
   "execution_count": 8,
   "metadata": {},
   "outputs": [
    {
     "name": "stdout",
     "output_type": "stream",
     "text": [
      " * sqlite:///Plant_Parenthood.db\n",
      "Done.\n"
     ]
    },
    {
     "data": {
      "text/html": [
       "<table>\n",
       "    <thead>\n",
       "        <tr>\n",
       "            <th>name</th>\n",
       "        </tr>\n",
       "    </thead>\n",
       "    <tbody>\n",
       "        <tr>\n",
       "            <td>CUSTOMERS</td>\n",
       "        </tr>\n",
       "        <tr>\n",
       "            <td>PLANTS</td>\n",
       "        </tr>\n",
       "        <tr>\n",
       "            <td>Orders</td>\n",
       "        </tr>\n",
       "        <tr>\n",
       "            <td>STATUS</td>\n",
       "        </tr>\n",
       "        <tr>\n",
       "            <td>ORDER_DETAILS</td>\n",
       "        </tr>\n",
       "    </tbody>\n",
       "</table>"
      ],
      "text/plain": [
       "[('CUSTOMERS',), ('PLANTS',), ('Orders',), ('STATUS',), ('ORDER_DETAILS',)]"
      ]
     },
     "execution_count": 8,
     "metadata": {},
     "output_type": "execute_result"
    }
   ],
   "source": [
    "%%sql\n",
    "SELECT name\n",
    "FROM sqlite_master\n",
    "WHERE type = 'table';"
   ]
  },
  {
   "cell_type": "code",
   "execution_count": 23,
   "metadata": {},
   "outputs": [
    {
     "name": "stdout",
     "output_type": "stream",
     "text": [
      " * sqlite:///Plant_Parenthood.db\n",
      "Done.\n"
     ]
    },
    {
     "data": {
      "text/html": [
       "<table>\n",
       "    <thead>\n",
       "        <tr>\n",
       "            <th>PlantName</th>\n",
       "            <th>quantity</th>\n",
       "            <th>OrderDate</th>\n",
       "        </tr>\n",
       "    </thead>\n",
       "    <tbody>\n",
       "    </tbody>\n",
       "</table>"
      ],
      "text/plain": [
       "[]"
      ]
     },
     "execution_count": 23,
     "metadata": {},
     "output_type": "execute_result"
    }
   ],
   "source": [
    "%%sql\n",
    "SELECT P.name AS PlantName, OD.quantity, O.OrderDate\n",
    "FROM PLANTS P\n",
    "JOIN ORDER_DETAILS OD ON P.pid = OD.pid\n",
    "JOIN ORDERS O ON OD.oid = O.oid\n",
    "WHERE O.cid = 1;  "
   ]
  },
  {
   "cell_type": "code",
   "execution_count": 20,
   "metadata": {},
   "outputs": [
    {
     "name": "stdout",
     "output_type": "stream",
     "text": [
      " * sqlite:///Plant_Parenthood.db\n",
      "Done.\n"
     ]
    },
    {
     "data": {
      "text/html": [
       "<table>\n",
       "    <thead>\n",
       "        <tr>\n",
       "            <th>oid</th>\n",
       "            <th>pid</th>\n",
       "            <th>quantity</th>\n",
       "            <th>price</th>\n",
       "        </tr>\n",
       "    </thead>\n",
       "    <tbody>\n",
       "        <tr>\n",
       "            <td>1</td>\n",
       "            <td>1</td>\n",
       "            <td>2</td>\n",
       "            <td>20.0</td>\n",
       "        </tr>\n",
       "        <tr>\n",
       "            <td>13</td>\n",
       "            <td>1</td>\n",
       "            <td>2</td>\n",
       "            <td>20.0</td>\n",
       "        </tr>\n",
       "        <tr>\n",
       "            <td>432424</td>\n",
       "            <td>1</td>\n",
       "            <td>1</td>\n",
       "            <td>23.0</td>\n",
       "        </tr>\n",
       "    </tbody>\n",
       "</table>"
      ],
      "text/plain": [
       "[(1, 1, 2, 20.0), (13, 1, 2, 20.0), (432424, 1, 1, 23.0)]"
      ]
     },
     "execution_count": 20,
     "metadata": {},
     "output_type": "execute_result"
    }
   ],
   "source": [
    "%%sql\n",
    "SELECT * FROM ORDER_DETAILS\n"
   ]
  },
  {
   "cell_type": "code",
   "execution_count": 21,
   "metadata": {},
   "outputs": [
    {
     "name": "stdout",
     "output_type": "stream",
     "text": [
      " * sqlite:///Plant_Parenthood.db\n",
      "Done.\n"
     ]
    },
    {
     "data": {
      "text/html": [
       "<table>\n",
       "    <thead>\n",
       "        <tr>\n",
       "            <th>cid</th>\n",
       "            <th>name</th>\n",
       "            <th>email</th>\n",
       "        </tr>\n",
       "    </thead>\n",
       "    <tbody>\n",
       "        <tr>\n",
       "            <td>1</td>\n",
       "            <td>dylan</td>\n",
       "            <td>dylana</td>\n",
       "        </tr>\n",
       "        <tr>\n",
       "            <td>2</td>\n",
       "            <td>cora</td>\n",
       "            <td>cora@gmail.com</td>\n",
       "        </tr>\n",
       "        <tr>\n",
       "            <td>3</td>\n",
       "            <td>comfort</td>\n",
       "            <td>comfort@gmail.com</td>\n",
       "        </tr>\n",
       "    </tbody>\n",
       "</table>"
      ],
      "text/plain": [
       "[(1, 'dylan', 'dylana'),\n",
       " (2, 'cora', 'cora@gmail.com'),\n",
       " (3, 'comfort', 'comfort@gmail.com')]"
      ]
     },
     "execution_count": 21,
     "metadata": {},
     "output_type": "execute_result"
    }
   ],
   "source": [
    "%%sql\n",
    "SELECT * FROM CUSTOMERS"
   ]
  },
  {
   "cell_type": "code",
   "execution_count": 22,
   "metadata": {},
   "outputs": [
    {
     "name": "stdout",
     "output_type": "stream",
     "text": [
      " * sqlite:///Plant_Parenthood.db\n",
      "Done.\n"
     ]
    },
    {
     "data": {
      "text/html": [
       "<table>\n",
       "    <thead>\n",
       "        <tr>\n",
       "            <th>pid</th>\n",
       "            <th>name</th>\n",
       "            <th>quantity</th>\n",
       "        </tr>\n",
       "    </thead>\n",
       "    <tbody>\n",
       "        <tr>\n",
       "            <td>1</td>\n",
       "            <td>pothos</td>\n",
       "            <td>2</td>\n",
       "        </tr>\n",
       "        <tr>\n",
       "            <td>2</td>\n",
       "            <td>monstera</td>\n",
       "            <td>4</td>\n",
       "        </tr>\n",
       "    </tbody>\n",
       "</table>"
      ],
      "text/plain": [
       "[(1, 'pothos', 2), (2, 'monstera', 4)]"
      ]
     },
     "execution_count": 22,
     "metadata": {},
     "output_type": "execute_result"
    }
   ],
   "source": [
    "%%sql\n",
    "SELECT * FROM PLANTS"
   ]
  },
  {
   "cell_type": "code",
   "execution_count": 24,
   "metadata": {},
   "outputs": [
    {
     "name": "stdout",
     "output_type": "stream",
     "text": [
      " * sqlite:///Plant_Parenthood.db\n",
      "Done.\n"
     ]
    },
    {
     "data": {
      "text/html": [
       "<table>\n",
       "    <thead>\n",
       "        <tr>\n",
       "            <th>oid</th>\n",
       "            <th>cid</th>\n",
       "            <th>OrderDate</th>\n",
       "            <th>shippingAddress</th>\n",
       "        </tr>\n",
       "    </thead>\n",
       "    <tbody>\n",
       "        <tr>\n",
       "            <td>1</td>\n",
       "            <td>2</td>\n",
       "            <td>2024-08-09</td>\n",
       "            <td>100 Chapel Hill Dr, Chapel Hill, NC</td>\n",
       "        </tr>\n",
       "        <tr>\n",
       "            <td>2</td>\n",
       "            <td>1</td>\n",
       "            <td>2024-08-09</td>\n",
       "            <td>100 Chapel Hill Dr, Chapel Hill, NC</td>\n",
       "        </tr>\n",
       "        <tr>\n",
       "            <td>3</td>\n",
       "            <td>2</td>\n",
       "            <td>2024-09-09</td>\n",
       "            <td>500 Chapel Hill Dr, Chapel Hill, NC</td>\n",
       "        </tr>\n",
       "        <tr>\n",
       "            <td>4</td>\n",
       "            <td>3</td>\n",
       "            <td>2024-10-09</td>\n",
       "            <td>700 Chapel Hill Dr, Chapel Hill, NC</td>\n",
       "        </tr>\n",
       "        <tr>\n",
       "            <td>5</td>\n",
       "            <td>2</td>\n",
       "            <td>today</td>\n",
       "            <td>graham memorial</td>\n",
       "        </tr>\n",
       "    </tbody>\n",
       "</table>"
      ],
      "text/plain": [
       "[(1, 2, '2024-08-09', '100 Chapel Hill Dr, Chapel Hill, NC'),\n",
       " (2, 1, '2024-08-09', '100 Chapel Hill Dr, Chapel Hill, NC'),\n",
       " (3, 2, '2024-09-09', '500 Chapel Hill Dr, Chapel Hill, NC'),\n",
       " (4, 3, '2024-10-09', '700 Chapel Hill Dr, Chapel Hill, NC'),\n",
       " (5, 2, 'today', 'graham memorial')]"
      ]
     },
     "execution_count": 24,
     "metadata": {},
     "output_type": "execute_result"
    }
   ],
   "source": [
    "%%sql\n",
    "SELECT * FROM orders"
   ]
  },
  {
   "cell_type": "code",
   "execution_count": 9,
   "metadata": {},
   "outputs": [
    {
     "name": "stdout",
     "output_type": "stream",
     "text": [
      " * sqlite:///Plant_Parenthood.db\n",
      "(sqlite3.OperationalError) near \"CONSTRAINT\": syntax error\n",
      "[SQL: -- Add FOREIGN KEY to link `ORDER_DETAILS` to `ORDERS`\n",
      "ALTER TABLE ORDER_DETAILS\n",
      "ADD CONSTRAINT fk_orderdetails_orders\n",
      "FOREIGN KEY (oid) REFERENCES ORDERS (oid) ON DELETE CASCADE;]\n",
      "(Background on this error at: https://sqlalche.me/e/20/e3q8)\n"
     ]
    }
   ],
   "source": [
    "%%sql\n",
    "-- Add FOREIGN KEY to link `ORDER_DETAILS` to `ORDERS`\n",
    "ALTER TABLE ORDER_DETAILS\n",
    "ADD CONSTRAINT fk_orderdetails_orders\n",
    "FOREIGN KEY (oid) REFERENCES ORDERS (oid) ON DELETE CASCADE;\n",
    "\n",
    "-- Add FOREIGN KEY to link `ORDER_DETAILS` to `PLANTS`\n",
    "ALTER TABLE ORDER_DETAILS\n",
    "ADD CONSTRAINT fk_orderdetails_plants\n",
    "FOREIGN KEY (pid) REFERENCES PLANTS (pid) ON DELETE CASCADE;"
   ]
  },
  {
   "cell_type": "code",
   "execution_count": 18,
   "metadata": {},
   "outputs": [
    {
     "name": "stdout",
     "output_type": "stream",
     "text": [
      " * sqlite:///Plant_Parenthood.db\n",
      "Done.\n"
     ]
    },
    {
     "data": {
      "text/html": [
       "<table>\n",
       "    <thead>\n",
       "        <tr>\n",
       "            <th>oid</th>\n",
       "            <th>cid</th>\n",
       "            <th>OrderDate</th>\n",
       "            <th>shippingAddress</th>\n",
       "        </tr>\n",
       "    </thead>\n",
       "    <tbody>\n",
       "        <tr>\n",
       "            <td>1</td>\n",
       "            <td>2</td>\n",
       "            <td>2024-08-09</td>\n",
       "            <td>100 Chapel Hill Dr, Chapel Hill, NC</td>\n",
       "        </tr>\n",
       "        <tr>\n",
       "            <td>2</td>\n",
       "            <td>1</td>\n",
       "            <td>2024-08-09</td>\n",
       "            <td>100 Chapel Hill Dr, Chapel Hill, NC</td>\n",
       "        </tr>\n",
       "        <tr>\n",
       "            <td>3</td>\n",
       "            <td>2</td>\n",
       "            <td>2024-09-09</td>\n",
       "            <td>500 Chapel Hill Dr, Chapel Hill, NC</td>\n",
       "        </tr>\n",
       "        <tr>\n",
       "            <td>4</td>\n",
       "            <td>3</td>\n",
       "            <td>2024-10-09</td>\n",
       "            <td>700 Chapel Hill Dr, Chapel Hill, NC</td>\n",
       "        </tr>\n",
       "        <tr>\n",
       "            <td>5</td>\n",
       "            <td>2</td>\n",
       "            <td>today</td>\n",
       "            <td>graham memorial</td>\n",
       "        </tr>\n",
       "    </tbody>\n",
       "</table>"
      ],
      "text/plain": [
       "[(1, 2, '2024-08-09', '100 Chapel Hill Dr, Chapel Hill, NC'),\n",
       " (2, 1, '2024-08-09', '100 Chapel Hill Dr, Chapel Hill, NC'),\n",
       " (3, 2, '2024-09-09', '500 Chapel Hill Dr, Chapel Hill, NC'),\n",
       " (4, 3, '2024-10-09', '700 Chapel Hill Dr, Chapel Hill, NC'),\n",
       " (5, 2, 'today', 'graham memorial')]"
      ]
     },
     "execution_count": 18,
     "metadata": {},
     "output_type": "execute_result"
    }
   ],
   "source": [
    "%%sql\n",
    "SELECT * FROM ORDERS"
   ]
  },
  {
   "cell_type": "code",
   "execution_count": 7,
   "metadata": {},
   "outputs": [
    {
     "name": "stdout",
     "output_type": "stream",
     "text": [
      " * sqlite:///Plant_Parenthood.db\n",
      "Done.\n"
     ]
    },
    {
     "data": {
      "text/plain": [
       "[]"
      ]
     },
     "execution_count": 7,
     "metadata": {},
     "output_type": "execute_result"
    }
   ],
   "source": [
    "%%sql\n",
    "CREATE TABLE ORDER_DETAILS (\n",
    "    oid INTEGER NOT NULL,             -- Order ID\n",
    "    pid INTEGER NOT NULL,             -- Plant ID\n",
    "    quantity INTEGER NOT NULL,        -- Quantity of the plant in the order\n",
    "    price REAL NOT NULL,              -- Price per unit of the plant\n",
    "    PRIMARY KEY (oid, pid),           -- Composite primary key\n",
    "    FOREIGN KEY (oid) REFERENCES ORDERS (oid) ON DELETE CASCADE,  -- Links to ORDERS table\n",
    "    FOREIGN KEY (pid) REFERENCES PLANTS (pid) ON DELETE CASCADE   -- Links to PLANTS table\n",
    ");"
   ]
  },
  {
   "cell_type": "code",
   "execution_count": 62,
   "metadata": {},
   "outputs": [
    {
     "name": "stdout",
     "output_type": "stream",
     "text": [
      " * sqlite:///Plant_Parenthood.db\n",
      "(sqlite3.OperationalError) table CUSTOMERS already exists\n",
      "[SQL: CREATE TABLE CUSTOMERS(\n",
      "    cid INTEGER PRIMARY KEY,\n",
      "    name VARCHAR(255) NOT NULL,\n",
      "    email TEXT);]\n",
      "(Background on this error at: https://sqlalche.me/e/20/e3q8)\n"
     ]
    }
   ],
   "source": [
    "%%sql\n",
    "CREATE TABLE CUSTOMERS(\n",
    "    cid INTEGER PRIMARY KEY,\n",
    "    name VARCHAR(255) NOT NULL,\n",
    "    email TEXT);"
   ]
  },
  {
   "cell_type": "code",
   "execution_count": 63,
   "metadata": {},
   "outputs": [
    {
     "name": "stdout",
     "output_type": "stream",
     "text": [
      " * sqlite:///Plant_Parenthood.db\n",
      "(sqlite3.OperationalError) table PLANTS already exists\n",
      "[SQL: CREATE TABLE PLANTS(\n",
      "    pid INTEGER PRIMARY KEY,\n",
      "    name VARCHAR(255) NOT NULL,\n",
      "    quantity INTEGER\n",
      "    );]\n",
      "(Background on this error at: https://sqlalche.me/e/20/e3q8)\n"
     ]
    }
   ],
   "source": [
    "%%sql\n",
    "CREATE TABLE PLANTS(\n",
    "    pid INTEGER PRIMARY KEY,\n",
    "    name VARCHAR(255) NOT NULL,\n",
    "    quantity INTEGER\n",
    "    );"
   ]
  },
  {
   "cell_type": "code",
   "execution_count": 64,
   "metadata": {},
   "outputs": [
    {
     "name": "stdout",
     "output_type": "stream",
     "text": [
      " * sqlite:///Plant_Parenthood.db\n",
      "(sqlite3.OperationalError) table Orders already exists\n",
      "[SQL: CREATE TABLE Orders (\n",
      "    oid INTEGER PRIMARY KEY,\n",
      "    cid INTEGER NOT NULL,\n",
      "    OrderDate TEXT NOT NULL,\n",
      "    shippingAddress TEXT NOT NULL,\n",
      "    FOREIGN KEY (cid) REFERENCES CUSTOMERS (cid)\n",
      ");]\n",
      "(Background on this error at: https://sqlalche.me/e/20/e3q8)\n"
     ]
    }
   ],
   "source": [
    "%%sql\n",
    "CREATE TABLE Orders (\n",
    "    oid INTEGER PRIMARY KEY,\n",
    "    cid INTEGER NOT NULL,\n",
    "    OrderDate TEXT NOT NULL,\n",
    "    shippingAddress TEXT NOT NULL,\n",
    "    FOREIGN KEY (cid) REFERENCES CUSTOMERS (cid)\n",
    ");\n"
   ]
  },
  {
   "cell_type": "code",
   "execution_count": 65,
   "metadata": {},
   "outputs": [
    {
     "name": "stdout",
     "output_type": "stream",
     "text": [
      " * sqlite:///Plant_Parenthood.db\n",
      "(sqlite3.OperationalError) table STATUS already exists\n",
      "[SQL: CREATE TABLE STATUS (\n",
      "    cid INTEGER,\n",
      "    oid INTEGER,\n",
      "    status TEXT CHECK (status IN ('success', 'pending')),\n",
      "    PRIMARY KEY (cid, oid),\n",
      "    FOREIGN KEY (cid) REFERENCES CUSTOMERS (cid) ON DELETE CASCADE,\n",
      "    FOREIGN KEY (oid) REFERENCES Orders (oid) ON DELETE CASCADE\n",
      ");]\n",
      "(Background on this error at: https://sqlalche.me/e/20/e3q8)\n"
     ]
    }
   ],
   "source": [
    "%%sql\n",
    "CREATE TABLE STATUS (\n",
    "    cid INTEGER,\n",
    "    oid INTEGER,\n",
    "    status TEXT CHECK (status IN ('success', 'pending')),\n",
    "    PRIMARY KEY (cid, oid),\n",
    "    FOREIGN KEY (cid) REFERENCES CUSTOMERS (cid) ON DELETE CASCADE,\n",
    "    FOREIGN KEY (oid) REFERENCES Orders (oid) ON DELETE CASCADE\n",
    ");"
   ]
  },
  {
   "cell_type": "code",
   "execution_count": 10,
   "metadata": {},
   "outputs": [
    {
     "name": "stdout",
     "output_type": "stream",
     "text": [
      " * sqlite:///Plant_Parenthood.db\n",
      "(sqlite3.OperationalError) trigger UpdateStatusOnInsert already exists\n",
      "[SQL: CREATE TRIGGER UpdateStatusOnInsert\n",
      "AFTER INSERT ON STATUS\n",
      "FOR EACH ROW\n",
      "BEGIN\n",
      "    -- If plant quantity is sufficient, set status to 'success'\n",
      "    UPDATE STATUS\n",
      "    SET status = 'success'\n",
      "    WHERE cid = NEW.cid\n",
      "    AND oid = NEW.oid\n",
      "    AND (SELECT quantity FROM PLANTS WHERE PLANTS.pid = NEW.oid AND PLANTS.quantity > 0) IS NOT NULL;\n",
      "\n",
      "    -- If plant quantity is insufficient, set status to 'pending'\n",
      "    UPDATE STATUS\n",
      "    SET status = 'pending'\n",
      "    WHERE cid = NEW.cid\n",
      "    AND oid = NEW.oid\n",
      "    AND (SELECT quantity FROM PLANTS WHERE PLANTS.pid = NEW.oid AND PLANTS.quantity <= 0) IS NOT NULL;\n",
      "END;]\n",
      "(Background on this error at: https://sqlalche.me/e/20/e3q8)\n"
     ]
    }
   ],
   "source": [
    "%%sql\n",
    "CREATE TRIGGER UpdateStatusOnInsert\n",
    "AFTER INSERT ON STATUS\n",
    "FOR EACH ROW\n",
    "BEGIN\n",
    "    -- If plant quantity is sufficient, set status to 'success'\n",
    "    UPDATE STATUS\n",
    "    SET status = 'success'\n",
    "    WHERE cid = NEW.cid\n",
    "    AND oid = NEW.oid\n",
    "    AND (SELECT quantity FROM PLANTS WHERE PLANTS.pid = NEW.oid AND PLANTS.quantity > 0) IS NOT NULL;\n",
    "\n",
    "    -- If plant quantity is insufficient, set status to 'pending'\n",
    "    UPDATE STATUS\n",
    "    SET status = 'pending'\n",
    "    WHERE cid = NEW.cid\n",
    "    AND oid = NEW.oid\n",
    "    AND (SELECT quantity FROM PLANTS WHERE PLANTS.pid = NEW.oid AND PLANTS.quantity <= 0) IS NOT NULL;\n",
    "END;\n"
   ]
  },
  {
   "cell_type": "code",
   "execution_count": 11,
   "metadata": {},
   "outputs": [
    {
     "name": "stdout",
     "output_type": "stream",
     "text": [
      " * sqlite:///Plant_Parenthood.db\n",
      "(sqlite3.OperationalError) trigger AddToStatusAfterOrderInsert already exists\n",
      "[SQL: CREATE TRIGGER AddToStatusAfterOrderInsert\n",
      "AFTER INSERT ON Orders\n",
      "FOR EACH ROW\n",
      "BEGIN\n",
      "    INSERT INTO STATUS (cid, oid, status)\n",
      "    VALUES (NEW.cid, NEW.oid, 'pending');\n",
      "END;]\n",
      "(Background on this error at: https://sqlalche.me/e/20/e3q8)\n"
     ]
    }
   ],
   "source": [
    "%%sql\n",
    "CREATE TRIGGER AddToStatusAfterOrderInsert\n",
    "AFTER INSERT ON Orders\n",
    "FOR EACH ROW\n",
    "BEGIN\n",
    "    INSERT INTO STATUS (cid, oid, status)\n",
    "    VALUES (NEW.cid, NEW.oid, 'pending');\n",
    "END;\n"
   ]
  },
  {
   "cell_type": "code",
   "execution_count": 12,
   "metadata": {},
   "outputs": [
    {
     "name": "stdout",
     "output_type": "stream",
     "text": [
      " * sqlite:///Plant_Parenthood.db\n",
      "Done.\n"
     ]
    },
    {
     "data": {
      "text/plain": [
       "[]"
      ]
     },
     "execution_count": 12,
     "metadata": {},
     "output_type": "execute_result"
    }
   ],
   "source": [
    "%%sql\n",
    "CREATE TRIGGER UpdatePlantQuantityAfterOrder\n",
    "AFTER INSERT ON ORDER_DETAILS\n",
    "FOR EACH ROW\n",
    "BEGIN\n",
    "    UPDATE PLANTS\n",
    "    SET quantity = quantity - NEW.quantity\n",
    "    WHERE pid = NEW.pid;\n",
    "END;"
   ]
  },
  {
   "cell_type": "code",
   "execution_count": 86,
   "metadata": {},
   "outputs": [
    {
     "name": "stdout",
     "output_type": "stream",
     "text": [
      " * sqlite:///Plant_Parenthood.db\n",
      "(sqlite3.OperationalError) table ORDERDETAILS already exists\n",
      "[SQL: CREATE TABLE ORDERDETAILS (\n",
      "    oid INTEGER NOT NULL,\n",
      "    pid INTEGER NOT NULL,\n",
      "    quantity INTEGER NOT NULL,\n",
      "    PRIMARY KEY (oid, pid),\n",
      "    FOREIGN KEY (oid) REFERENCES Orders (oid) ON DELETE CASCADE,\n",
      "    FOREIGN KEY (pid) REFERENCES PLANTS (pid) ON DELETE CASCADE\n",
      ");]\n",
      "(Background on this error at: https://sqlalche.me/e/20/e3q8)\n"
     ]
    }
   ],
   "source": [
    "%%sql\n",
    "CREATE TABLE ORDERDETAILS (\n",
    "    oid INTEGER NOT NULL,\n",
    "    pid INTEGER NOT NULL,\n",
    "    quantity INTEGER NOT NULL,\n",
    "    PRIMARY KEY (oid, pid),\n",
    "    FOREIGN KEY (oid) REFERENCES Orders (oid) ON DELETE CASCADE,\n",
    "    FOREIGN KEY (pid) REFERENCES PLANTS (pid) ON DELETE CASCADE\n",
    ");\n"
   ]
  },
  {
   "cell_type": "code",
   "execution_count": null,
   "metadata": {},
   "outputs": [],
   "source": []
  },
  {
   "cell_type": "code",
   "execution_count": 69,
   "metadata": {},
   "outputs": [
    {
     "name": "stdout",
     "output_type": "stream",
     "text": [
      " * sqlite:///Plant_Parenthood.db\n",
      "Done.\n"
     ]
    },
    {
     "data": {
      "text/html": [
       "<table>\n",
       "    <thead>\n",
       "        <tr>\n",
       "            <th>oid</th>\n",
       "            <th>cid</th>\n",
       "            <th>OrderDate</th>\n",
       "            <th>shippingAddress</th>\n",
       "        </tr>\n",
       "    </thead>\n",
       "    <tbody>\n",
       "        <tr>\n",
       "            <td>1</td>\n",
       "            <td>1</td>\n",
       "            <td>2024-08-09</td>\n",
       "            <td>100 Chapel Hill Dr, Chapel Hill, NC</td>\n",
       "        </tr>\n",
       "        <tr>\n",
       "            <td>2</td>\n",
       "            <td>1</td>\n",
       "            <td>2024-08-09</td>\n",
       "            <td>100 Chapel Hill Dr, Chapel Hill, NC</td>\n",
       "        </tr>\n",
       "        <tr>\n",
       "            <td>3</td>\n",
       "            <td>2</td>\n",
       "            <td>2024-09-09</td>\n",
       "            <td>500 Chapel Hill Dr, Chapel Hill, NC</td>\n",
       "        </tr>\n",
       "        <tr>\n",
       "            <td>4</td>\n",
       "            <td>3</td>\n",
       "            <td>2024-10-09</td>\n",
       "            <td>700 Chapel Hill Dr, Chapel Hill, NC</td>\n",
       "        </tr>\n",
       "        <tr>\n",
       "            <td>11111</td>\n",
       "            <td>222</td>\n",
       "            <td>3</td>\n",
       "            <td>3</td>\n",
       "        </tr>\n",
       "    </tbody>\n",
       "</table>"
      ],
      "text/plain": [
       "[(1, 1, '2024-08-09', '100 Chapel Hill Dr, Chapel Hill, NC'),\n",
       " (2, 1, '2024-08-09', '100 Chapel Hill Dr, Chapel Hill, NC'),\n",
       " (3, 2, '2024-09-09', '500 Chapel Hill Dr, Chapel Hill, NC'),\n",
       " (4, 3, '2024-10-09', '700 Chapel Hill Dr, Chapel Hill, NC'),\n",
       " (11111, 222, '3', '3')]"
      ]
     },
     "execution_count": 69,
     "metadata": {},
     "output_type": "execute_result"
    }
   ],
   "source": [
    "%%sql\n",
    "select * from orders"
   ]
  },
  {
   "cell_type": "code",
   "execution_count": 70,
   "metadata": {},
   "outputs": [
    {
     "name": "stdout",
     "output_type": "stream",
     "text": [
      " * sqlite:///Plant_Parenthood.db\n",
      "Done.\n"
     ]
    },
    {
     "data": {
      "text/html": [
       "<table>\n",
       "    <thead>\n",
       "        <tr>\n",
       "            <th>cid</th>\n",
       "            <th>name</th>\n",
       "            <th>email</th>\n",
       "        </tr>\n",
       "    </thead>\n",
       "    <tbody>\n",
       "        <tr>\n",
       "            <td>1</td>\n",
       "            <td>dylan</td>\n",
       "            <td>dylan@gmail.com</td>\n",
       "        </tr>\n",
       "        <tr>\n",
       "            <td>2</td>\n",
       "            <td>cora</td>\n",
       "            <td>cora@gmail.com</td>\n",
       "        </tr>\n",
       "        <tr>\n",
       "            <td>3</td>\n",
       "            <td>comfort</td>\n",
       "            <td>comfort@gmail.com</td>\n",
       "        </tr>\n",
       "    </tbody>\n",
       "</table>"
      ],
      "text/plain": [
       "[(1, 'dylan', 'dylan@gmail.com'),\n",
       " (2, 'cora', 'cora@gmail.com'),\n",
       " (3, 'comfort', 'comfort@gmail.com')]"
      ]
     },
     "execution_count": 70,
     "metadata": {},
     "output_type": "execute_result"
    }
   ],
   "source": [
    "%%sql\n",
    "select * from customers"
   ]
  },
  {
   "cell_type": "code",
   "execution_count": 71,
   "metadata": {},
   "outputs": [
    {
     "name": "stdout",
     "output_type": "stream",
     "text": [
      " * sqlite:///Plant_Parenthood.db\n",
      "Done.\n"
     ]
    },
    {
     "data": {
      "text/html": [
       "<table>\n",
       "    <thead>\n",
       "        <tr>\n",
       "            <th>cid</th>\n",
       "            <th>oid</th>\n",
       "            <th>status</th>\n",
       "        </tr>\n",
       "    </thead>\n",
       "    <tbody>\n",
       "        <tr>\n",
       "            <td>1</td>\n",
       "            <td>2</td>\n",
       "            <td>pending</td>\n",
       "        </tr>\n",
       "        <tr>\n",
       "            <td>2</td>\n",
       "            <td>3</td>\n",
       "            <td>pending</td>\n",
       "        </tr>\n",
       "        <tr>\n",
       "            <td>3</td>\n",
       "            <td>4</td>\n",
       "            <td>pending</td>\n",
       "        </tr>\n",
       "    </tbody>\n",
       "</table>"
      ],
      "text/plain": [
       "[(1, 2, 'pending'), (2, 3, 'pending'), (3, 4, 'pending')]"
      ]
     },
     "execution_count": 71,
     "metadata": {},
     "output_type": "execute_result"
    }
   ],
   "source": [
    "%%sql\n",
    "select * from status"
   ]
  },
  {
   "cell_type": "code",
   "execution_count": 72,
   "metadata": {},
   "outputs": [
    {
     "name": "stdout",
     "output_type": "stream",
     "text": [
      " * sqlite:///Plant_Parenthood.db\n",
      "(sqlite3.IntegrityError) UNIQUE constraint failed: CUSTOMERS.cid\n",
      "[SQL: insert into customers(cid, name, email)\n",
      "values(3, 'comfort', 'comfort@gmail.com')]\n",
      "(Background on this error at: https://sqlalche.me/e/20/gkpj)\n"
     ]
    }
   ],
   "source": [
    "%%sql\n",
    "insert into customers(cid, name, email)\n",
    "values(3, 'comfort', 'comfort@gmail.com')"
   ]
  },
  {
   "cell_type": "code",
   "execution_count": 73,
   "metadata": {},
   "outputs": [
    {
     "name": "stdout",
     "output_type": "stream",
     "text": [
      " * sqlite:///Plant_Parenthood.db\n",
      "(sqlite3.IntegrityError) UNIQUE constraint failed: Orders.oid\n",
      "[SQL: INSERT INTO ORDERS (oid, cid, orderdate, shippingAddress)\n",
      "VALUES (4, 3, '2024-10-09', '700 Chapel Hill Dr, Chapel Hill, NC');]\n",
      "(Background on this error at: https://sqlalche.me/e/20/gkpj)\n"
     ]
    }
   ],
   "source": [
    "%%sql\n",
    "INSERT INTO ORDERS (oid, cid, orderdate, shippingAddress)\n",
    "VALUES (4, 3, '2024-10-09', '700 Chapel Hill Dr, Chapel Hill, NC');\n"
   ]
  },
  {
   "cell_type": "code",
   "execution_count": 74,
   "metadata": {},
   "outputs": [
    {
     "name": "stdout",
     "output_type": "stream",
     "text": [
      " * sqlite:///Plant_Parenthood.db\n",
      "(sqlite3.OperationalError) attempt to write a readonly database\n",
      "[SQL: CREATE TABLE IF NOT EXISTS ORDER_DETAILS (\n",
      "    oid INTEGER NOT NULL,\n",
      "    pid INTEGER NOT NULL,\n",
      "    quantity INTEGER NOT NULL,\n",
      "    price REAL NOT NULL,\n",
      "    PRIMARY KEY (oid, pid),\n",
      "    FOREIGN KEY (oid) REFERENCES ORDERS (oid) ON DELETE CASCADE,\n",
      "    FOREIGN KEY (pid) REFERENCES PLANTS (pid) ON DELETE CASCADE\n",
      ");]\n",
      "(Background on this error at: https://sqlalche.me/e/20/e3q8)\n"
     ]
    }
   ],
   "source": [
    "%%sql\n",
    "CREATE TABLE IF NOT EXISTS ORDER_DETAILS (\n",
    "    oid INTEGER NOT NULL,\n",
    "    pid INTEGER NOT NULL,\n",
    "    quantity INTEGER NOT NULL,\n",
    "    price REAL NOT NULL,\n",
    "    PRIMARY KEY (oid, pid),\n",
    "    FOREIGN KEY (oid) REFERENCES ORDERS (oid) ON DELETE CASCADE,\n",
    "    FOREIGN KEY (pid) REFERENCES PLANTS (pid) ON DELETE CASCADE\n",
    ");"
   ]
  },
  {
   "cell_type": "code",
   "execution_count": 75,
   "metadata": {},
   "outputs": [
    {
     "name": "stdout",
     "output_type": "stream",
     "text": [
      " * sqlite:///Plant_Parenthood.db\n",
      "Done.\n"
     ]
    },
    {
     "data": {
      "text/html": [
       "<table>\n",
       "    <thead>\n",
       "        <tr>\n",
       "            <th>pid</th>\n",
       "            <th>name</th>\n",
       "            <th>quantity</th>\n",
       "        </tr>\n",
       "    </thead>\n",
       "    <tbody>\n",
       "    </tbody>\n",
       "</table>"
      ],
      "text/plain": [
       "[]"
      ]
     },
     "execution_count": 75,
     "metadata": {},
     "output_type": "execute_result"
    }
   ],
   "source": [
    "%%sql\n",
    "select * from plants"
   ]
  },
  {
   "cell_type": "code",
   "execution_count": 76,
   "metadata": {},
   "outputs": [],
   "source": [
    "def validate_column_value(column_name, column_type, not_null, value):\n",
    "    \"\"\"\n",
    "    Validates a single column value based on its type and constraints.\n",
    "\n",
    "    Parameters:\n",
    "    - column_name (str): The name of the column.\n",
    "    - column_type (str): The expected type of the column (e.g., INTEGER, REAL, TEXT, BOOLEAN).\n",
    "    - not_null (bool): Whether the column has a NOT NULL constraint.\n",
    "    - value (str): The user-provided value to validate.\n",
    "\n",
    "    Returns:\n",
    "    - str/int/float: The validated and properly formatted value if valid.\n",
    "    - None: If validation fails (prints an error and asks for re-entry).\n",
    "    \"\"\"\n",
    "    # Normalize column_type for compatibility with SQLite types\n",
    "    normalized_type = column_type.split('(')[0].upper()  # Remove size specifiers (e.g., VARCHAR(255) -> VARCHAR)\n",
    "\n",
    "    # Map normalized types to base SQLite types\n",
    "    if normalized_type in [\"VARCHAR\", \"CHAR\", \"CLOB\"]:\n",
    "        normalized_type = \"TEXT\"\n",
    "    elif normalized_type in [\"FLOAT\", \"DOUBLE\", \"DECIMAL\"]:\n",
    "        normalized_type = \"REAL\"\n",
    "    elif normalized_type in [\"INT\", \"TINYINT\", \"SMALLINT\", \"BIGINT\"]:\n",
    "        normalized_type = \"INTEGER\"\n",
    "\n",
    "    # NOT NULL validation\n",
    "    if not_null and not value.strip():\n",
    "        print(f\"Error: {column_name} cannot be null.\")\n",
    "        return None\n",
    "\n",
    "    # Type validation\n",
    "    if normalized_type == \"INTEGER\":\n",
    "        if not value.isdigit():\n",
    "            print(f\"Error: {column_name} must be an integer.\")\n",
    "            return None\n",
    "        return int(value)  # Convert to integer\n",
    "\n",
    "    elif normalized_type == \"REAL\":\n",
    "        try:\n",
    "            return float(value)  # Convert to float\n",
    "        except ValueError:\n",
    "            print(f\"Error: {column_name} must be a real number.\")\n",
    "            return None\n",
    "\n",
    "    elif normalized_type == \"TEXT\":\n",
    "        if not isinstance(value, str):\n",
    "            print(f\"Error: {column_name} must be text.\")\n",
    "            return None\n",
    "        return value.strip()  # Return as string\n",
    "\n",
    "    elif normalized_type == \"BOOLEAN\":\n",
    "        if value.lower() in [\"true\", \"1\"]:\n",
    "            return 1  # SQLite uses 1 for true\n",
    "        elif value.lower() in [\"false\", \"0\"]:\n",
    "            return 0  # SQLite uses 0 for false\n",
    "        else:\n",
    "            print(f\"Error: {column_name} must be a boolean (true/false or 1/0).\")\n",
    "            return None\n",
    "\n",
    "    else:\n",
    "        print(f\"Error: Unknown column type '{column_type}' for {column_name}.\")\n",
    "        return None\n"
   ]
  },
  {
   "cell_type": "code",
   "execution_count": 78,
   "metadata": {},
   "outputs": [
    {
     "ename": "IndentationError",
     "evalue": "unindent does not match any outer indentation level (<tokenize>, line 136)",
     "output_type": "error",
     "traceback": [
      "\u001b[0;36m  File \u001b[0;32m<tokenize>:136\u001b[0;36m\u001b[0m\n\u001b[0;31m    except sqlite3.OperationalError as e:\u001b[0m\n\u001b[0m    ^\u001b[0m\n\u001b[0;31mIndentationError\u001b[0m\u001b[0;31m:\u001b[0m unindent does not match any outer indentation level\n"
     ]
    }
   ],
   "source": [
    "import sqlite3\n",
    "\n",
    "# Connect to the database (or create it if it doesn't exist)\n",
    "conn = sqlite3.connect('Plant_Parenthood.db')\n",
    "cursor = conn.cursor()\n",
    "\n",
    "# Fetch the list of tables in the database\n",
    "cursor.execute(\"SELECT name FROM sqlite_master WHERE type='table';\")\n",
    "tables = [table[0] for table in cursor.fetchall()]\n",
    "\n",
    "# Check if tables exist in the database\n",
    "if not tables:\n",
    "    print(\"No tables found in the database. Please create a table before proceeding.\")\n",
    "    conn.close()\n",
    "    exit()\n",
    "\n",
    "def display_menu():\n",
    "    # Display available tables and let the user choose one\n",
    "    print(\"\\nAvailable tables:\")\n",
    "    for i, table in enumerate(tables, start=1):\n",
    "        print(f\"{i}. {table}\")\n",
    "\n",
    "    try:\n",
    "        table_choice = int(input(\"Select the table you want to alter (by number): \")) - 1\n",
    "        if table_choice < 0 or table_choice >= len(tables):\n",
    "            raise ValueError(\"Invalid table choice.\")\n",
    "        return tables[table_choice]\n",
    "    except ValueError:\n",
    "        print(\"Invalid choice. Exiting.\")\n",
    "        conn.close()\n",
    "        exit()\n",
    "\n",
    "def perform_action(selected_table):\n",
    "    # Menu for selecting an action\n",
    "    print(\"\\nChoose an action:\")\n",
    "    print(\"1. Add a new record\")\n",
    "    print(\"2. Delete a record\")\n",
    "    print(\"3. View all records\")\n",
    "    print(\"4. Update a record\")\n",
    "    print(\"5. View plants ordered by Customer ID\")\n",
    "    choice = input(\"Enter your choice: \")\n",
    "\n",
    "    if choice == \"1\":\n",
    "        # Add a new record\n",
    "        print(\"\\nAdding a new record:\")\n",
    "        columns_query = f\"PRAGMA table_info({selected_table});\"\n",
    "        cursor.execute(columns_query)\n",
    "        columns_info = cursor.fetchall()  # Fetch column details: (cid, name, type, not null, etc.)\n",
    "\n",
    "        values = []\n",
    "        for column_info in columns_info:\n",
    "            # Correctly map each field from the PRAGMA output\n",
    "            column_name = column_info[1]  # Column name\n",
    "            column_type = column_info[2]  # Data type (e.g., INTEGER, TEXT)\n",
    "            not_null = column_info[3]     # NOT NULL constraint (1 or 0)\n",
    "            default_value = column_info[4]  # Default value\n",
    "            primary_key = column_info[5]  # Primary key flag (1 or 0)\n",
    "\n",
    "            # Prompt and validate input\n",
    "            while True:\n",
    "                value = input(f\"Enter value for {column_name} ({column_type}): \")\n",
    "                validated_value = validate_column_value(column_name, column_type, not_null, value)\n",
    "                if validated_value is not None:  # If validation passes, add the value\n",
    "                    values.append(validated_value)\n",
    "                    break\n",
    "\n",
    "        # Prepare and execute the INSERT query\n",
    "        columns_names = \", \".join([col[1] for col in columns_info])\n",
    "        placeholders = \", \".join([\"?\"] * len(columns_info))\n",
    "        query = f\"INSERT INTO {selected_table} ({columns_names}) VALUES ({placeholders})\"\n",
    "\n",
    "        try:\n",
    "            cursor.execute(query, values)\n",
    "            conn.commit()\n",
    "            print(\"New record added successfully!\")\n",
    "        except sqlite3.IntegrityError as e:\n",
    "            print(f\"Error: {e}\")\n",
    "\n",
    "    elif choice == \"2\":\n",
    "        # Delete a record\n",
    "        delete_column = input(f\"Enter the column name to filter by for deletion: \")\n",
    "        delete_value = input(f\"Enter the value for {delete_column} to delete: \")\n",
    "        \n",
    "        try:\n",
    "            cursor.execute(f\"DELETE FROM {selected_table} WHERE {delete_column} = ?\", (delete_value,))\n",
    "            conn.commit()\n",
    "            print(\"Record deleted successfully!\")\n",
    "        except sqlite3.OperationalError as e:\n",
    "            print(f\"Error: {e}\")\n",
    "\n",
    "    elif choice == \"3\":\n",
    "        # View all records\n",
    "        print(\"\\nViewing all records:\")\n",
    "        try:\n",
    "            cursor.execute(f\"SELECT * FROM {selected_table}\")\n",
    "            rows = cursor.fetchall()\n",
    "            for row in rows:\n",
    "                print(row)\n",
    "        except sqlite3.OperationalError as e:\n",
    "            print(f\"Error: {e}\")\n",
    "\n",
    "    elif choice == \"4\":\n",
    "        # Update a record\n",
    "        print(\"\\nUpdating a record:\")\n",
    "        update_column = input(\"Enter the column name you want to update (e.g., Email): \")\n",
    "        new_value = input(f\"Enter the new value for {update_column}: \")\n",
    "        filter_column = input(\"Enter the column name to filter by (e.g., CustomerID): \")\n",
    "        filter_value = input(f\"Enter the value of {filter_column} to identify the record: \")\n",
    "        \n",
    "        try:\n",
    "            cursor.execute(\n",
    "                f\"UPDATE {selected_table} SET {update_column} = ? WHERE {filter_column} = ?\",\n",
    "                (new_value, filter_value)\n",
    "            )\n",
    "            conn.commit()\n",
    "            print(\"Record updated successfully!\")\n",
    "        except sqlite3.OperationalError as e:\n",
    "            print(f\"Error: {e}\")\n",
    "\n",
    "    elif choice == \"5\":\n",
    "        #View Orders by Customer ID\n",
    "        print(\"\\nFinding plants ordered by customer ID:\")\n",
    "        find_cid = input(\"Enter customer ID (e.g., 3):\")\n",
    "\n",
    "        try:\n",
    "            procedure_sql = \"\"\"\n",
    "            CREATE PROCEDURE find_orders(IN curr_cid INT)\n",
    "            BEGIN\n",
    "            SELECT P.name FROM PLANTS P, Orders O WHERE curr_cid = O.cid AND O.oid = P.pid\n",
    "            END \"\"\"\n",
    "            \n",
    "            cursor.callproc('find_orders', (find_cid))\n",
    "            rows = cursor.fetchall()\n",
    "            for row in rows:\n",
    "                print(row)\n",
    "         except sqlite3.OperationalError as e:\n",
    "            print(f\"Error: {e}\")\n",
    "            \n",
    "\n",
    "    else:\n",
    "        print(\"Invalid choice. Returning to main menu.\")\n",
    "\n",
    "while True:\n",
    "    selected_table = display_menu()\n",
    "    perform_action(selected_table)\n",
    "\n",
    "    # Ask the user if they want to perform another action\n",
    "    continue_choice = input(\"\\nDo you want to perform another action? (yes/no): \").strip().lower()\n",
    "    if continue_choice != \"yes\":\n",
    "        print(\"Exiting program. Goodbye!\")\n",
    "        break\n",
    "\n",
    "# Close the connection\n",
    "conn.close()\n"
   ]
  },
  {
   "cell_type": "code",
   "execution_count": null,
   "metadata": {},
   "outputs": [],
   "source": [
    "import sqlite3\n",
    "\n",
    "# Connect to the database (or create it if it doesn't exist)\n",
    "conn = sqlite3.connect('Plant_Parenthood.db')\n",
    "cursor = conn.cursor()\n",
    "\n",
    "# Fetch the list of tables in the database\n",
    "cursor.execute(\"SELECT name FROM sqlite_master WHERE type='table';\")\n",
    "tables = [table[0] for table in cursor.fetchall()]\n",
    "\n",
    "# Check if tables exist in the database\n",
    "if not tables:\n",
    "    print(\"No tables found in the database. Please create a table before proceeding.\")\n",
    "    conn.close()\n",
    "    exit()\n",
    "\n",
    "def display_menu():\n",
    "    # Display available tables and let the user choose one\n",
    "    print(\"\\nAvailable tables:\")\n",
    "    for i, table in enumerate(tables, start=1):\n",
    "        print(f\"{i}. {table}\")\n",
    "\n",
    "    try:\n",
    "        table_choice = int(input(\"Select the table you want to alter (by number): \")) - 1\n",
    "        if table_choice < 0 or table_choice >= len(tables):\n",
    "            raise ValueError(\"Invalid table choice.\")\n",
    "        return tables[table_choice]\n",
    "    except ValueError:\n",
    "        print(\"Invalid choice. Exiting.\")\n",
    "        conn.close()\n",
    "        exit()\n",
    "\n",
    "def perform_action(selected_table):\n",
    "    # Menu for selecting an action\n",
    "    print(\"\\nChoose an action:\")\n",
    "    print(\"1. Add a new record\")\n",
    "    print(\"2. Delete a record\")\n",
    "    print(\"3. View all records\")\n",
    "    print(\"4. Update a record\")\n",
    "    print(\"5. View plants ordered by Customer ID\")\n",
    "    choice = input(\"Enter your choice: \")\n",
    "\n",
    "    if choice == \"1\":\n",
    "        # Add a new record\n",
    "        print(\"\\nAdding a new record:\")\n",
    "        columns_query = f\"PRAGMA table_info({selected_table});\"\n",
    "        cursor.execute(columns_query)\n",
    "        columns_info = cursor.fetchall()  # Fetch column details: (cid, name, type, not null, etc.)\n",
    "\n",
    "        values = []\n",
    "        for column_info in columns_info:\n",
    "            # Correctly map each field from the PRAGMA output\n",
    "            column_name = column_info[1]  # Column name\n",
    "            column_type = column_info[2]  # Data type (e.g., INTEGER, TEXT)\n",
    "            not_null = column_info[3]     # NOT NULL constraint (1 or 0)\n",
    "            default_value = column_info[4]  # Default value\n",
    "            primary_key = column_info[5]  # Primary key flag (1 or 0)\n",
    "\n",
    "            # Prompt and validate input\n",
    "            while True:\n",
    "                value = input(f\"Enter value for {column_name} ({column_type}): \")\n",
    "                validated_value = validate_column_value(column_name, column_type, not_null, value)\n",
    "                if validated_value is not None:  # If validation passes, add the value\n",
    "                    values.append(validated_value)\n",
    "                    break\n",
    "\n",
    "        # Prepare and execute the INSERT query\n",
    "        columns_names = \", \".join([col[1] for col in columns_info])\n",
    "        placeholders = \", \".join([\"?\"] * len(columns_info))\n",
    "        query = f\"INSERT INTO {selected_table} ({columns_names}) VALUES ({placeholders})\"\n",
    "\n",
    "        try:\n",
    "            cursor.execute(query, values)\n",
    "            conn.commit()\n",
    "            print(\"New record added successfully!\")\n",
    "        except sqlite3.IntegrityError as e:\n",
    "            print(f\"Error: {e}\")\n",
    "\n",
    "    elif choice == \"2\":\n",
    "        # Delete a record\n",
    "        print(\"\\nDeleting a record:\")\n",
    "        try:\n",
    "            # Display all records to the user\n",
    "            cursor.execute(f\"SELECT * FROM {selected_table}\")\n",
    "            rows = cursor.fetchall()\n",
    "            \n",
    "            if not rows:\n",
    "                print(\"No records found in the table.\")\n",
    "                return\n",
    "\n",
    "            # Display rows with indices\n",
    "            print(\"\\nAvailable records:\")\n",
    "            for row in rows:\n",
    "                print(row)\n",
    "\n",
    "            # Assume the first column is the primary key (change if needed)\n",
    "            primary_key_column = cursor.execute(f\"PRAGMA table_info({selected_table})\").fetchall()[0][1]\n",
    "\n",
    "            # Prompt user to select a row based on primary key\n",
    "            row_id = input(f\"\\nEnter the {primary_key_column} of the row you want to delete: \")\n",
    "\n",
    "            # Execute deletion\n",
    "            cursor.execute(f\"DELETE FROM {selected_table} WHERE {primary_key_column} = ?\", (row_id,))\n",
    "            conn.commit()\n",
    "            print(\"Record deleted successfully!\")\n",
    "        except sqlite3.OperationalError as e:\n",
    "            print(f\"Error: {e}\")\n",
    "\n",
    "\n",
    "    elif choice == \"3\":\n",
    "        # View all records\n",
    "        print(\"\\nViewing all records:\")\n",
    "        try:\n",
    "            cursor.execute(f\"SELECT * FROM {selected_table}\")\n",
    "            rows = cursor.fetchall()\n",
    "            for row in rows:\n",
    "                print(row)\n",
    "        except sqlite3.OperationalError as e:\n",
    "            print(f\"Error: {e}\")\n",
    "\n",
    "    elif choice == \"4\":\n",
    "        # Update a record\n",
    "        print(\"\\nUpdating a record:\")\n",
    "        update_column = input(\"Enter the column name you want to update (e.g., Email): \")\n",
    "        new_value = input(f\"Enter the new value for {update_column}: \")\n",
    "        filter_column = input(\"Enter the column name to filter by (e.g., CustomerID): \")\n",
    "        filter_value = input(f\"Enter the value of {filter_column} to identify the record: \")\n",
    "        \n",
    "        try:\n",
    "            cursor.execute(\n",
    "                f\"UPDATE {selected_table} SET {update_column} = ? WHERE {filter_column} = ?\",\n",
    "                (new_value, filter_value)\n",
    "            )\n",
    "            conn.commit()\n",
    "            print(\"Record updated successfully!\")\n",
    "        except sqlite3.OperationalError as e:\n",
    "            print(f\"Error: {e}\")\n",
    "\n",
    "    elif choice == \"5\":\n",
    "        #View Orders by Customer ID\n",
    "        print(\"\\nFinding plants ordered by customer ID:\")\n",
    "        find_cid = input(\"Enter customer ID (e.g., 3):\")\n",
    "\n",
    "        try:\n",
    "            procedure_sql = \"\"\"\n",
    "            CREATE PROCEDURE find_orders(IN curr_cid INT)\n",
    "            BEGIN\n",
    "            SELECT P.name FROM PLANTS P, Orders O WHERE curr_cid = O.cid AND O.oid = P.pid\n",
    "            END \"\"\"\n",
    "            \n",
    "            cursor.callproc('find_orders', (find_cid))\n",
    "            rows = cursor.fetchall()\n",
    "            for row in rows:\n",
    "                print(row)\n",
    "         except sqlite3.OperationalError as e:\n",
    "            print(f\"Error: {e}\")\n",
    "            \n",
    "    else:\n",
    "        print(\"Invalid choice. Returning to main menu.\")\n",
    "\n",
    "while True:\n",
    "    selected_table = display_menu()\n",
    "    perform_action(selected_table)\n",
    "\n",
    "    # Ask the user if they want to perform another action\n",
    "    continue_choice = input(\"\\nDo you want to perform another action? (yes/no): \").strip().lower()\n",
    "    if continue_choice != \"yes\":\n",
    "        print(\"Exiting program. Goodbye!\")\n",
    "        break\n",
    "\n",
    "# Close the connection\n",
    "conn.close()\n"
   ]
  },
  {
   "cell_type": "code",
   "execution_count": null,
   "metadata": {},
   "outputs": [],
   "source": []
  },
  {
   "cell_type": "code",
   "execution_count": null,
   "metadata": {},
   "outputs": [],
   "source": [
    "%%sql\n",
    "select * From Orders\n"
   ]
  },
  {
   "cell_type": "code",
   "execution_count": null,
   "metadata": {},
   "outputs": [],
   "source": [
    "%%sql\n",
    "SELECT name FROM sqlite_master WHERE type='table';"
   ]
  }
 ],
 "metadata": {
  "kernelspec": {
   "display_name": "base",
   "language": "python",
   "name": "python3"
  },
  "language_info": {
   "codemirror_mode": {
    "name": "ipython",
    "version": 3
   },
   "file_extension": ".py",
   "mimetype": "text/x-python",
   "name": "python",
   "nbconvert_exporter": "python",
   "pygments_lexer": "ipython3",
   "version": "3.11.5"
  },
  "vscode": {
   "interpreter": {
    "hash": "d96a4ad12ca32da17770530596f8219d02ab2d9969b7f320f42a34076f92ab21"
   }
  }
 },
 "nbformat": 4,
 "nbformat_minor": 4
}
